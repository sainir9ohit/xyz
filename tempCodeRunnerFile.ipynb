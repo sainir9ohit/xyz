import pandas as pd
import numpy as np
import matplotlib.pyplot as plt
import seaborn as sns

df = pd.read_csv('diabetes_.csv')
df.head()

df1 = df.astype(float)
df1.head()

import numpy as np
# Replace 0 values in important features with median value
df1['Glucose'] = df1['Glucose'].replace(0, np.median(df1['Glucose']))
df1['BloodPressure'] = df1['BloodPressure'].replace(0, np.median(df1['BloodPressure']))